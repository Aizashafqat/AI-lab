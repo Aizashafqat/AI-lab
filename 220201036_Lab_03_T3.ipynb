{
 "cells": [
  {
   "cell_type": "code",
   "execution_count": null,
   "metadata": {},
   "outputs": [
    {
     "name": "stdout",
     "output_type": "stream",
     "text": [
      "Solution Path: [0, 0, 0, 0, 0, 0, 0, 0, 0, 0, 0, 0, 0, 0, 0]\n"
     ]
    }
   ],
   "source": [
    "from collections import deque\n",
    "\n",
    "moves = {\n",
    "    \"up\": -3, \"down\": 3, \"left\": -1, \"right\": 1\n",
    "}\n",
    "\n",
    "def get_possible_moves(index):\n",
    "    \"\"\"Returns possible moves for the empty tile based on its index.\"\"\"\n",
    "    possible_moves = []\n",
    "    row, col = divmod(index, 3)  \n",
    "\n",
    "    if row > 0: possible_moves.append(\"up\")    \n",
    "    if row < 2: possible_moves.append(\"down\")  \n",
    "    if col > 0: possible_moves.append(\"left\")  \n",
    "    if col < 2: possible_moves.append(\"right\")\n",
    "\n",
    "    return possible_moves\n",
    "\n",
    "def bfs_8_puzzle(initial_state, goal_state):\n",
    "    \"\"\"Solves the 8-puzzle using BFS and returns the solution path.\"\"\"\n",
    "    queue = deque([(initial_state, [])])  \n",
    "    visited = set() \n",
    "\n",
    "    while queue:\n",
    "        current_state, path = queue.popleft()\n",
    "        \n",
    "        if current_state == goal_state:\n",
    "            return path  \n",
    "        visited.add(tuple(current_state))  \n",
    "        empty_index = current_state.index(0)  \n",
    "\n",
    "        for move in get_possible_moves(empty_index):\n",
    "            new_state = current_state[:]\n",
    "            new_index = empty_index + moves[move]\n",
    "\n",
    "            new_state[empty_index], new_state[new_index] = new_state[new_index], new_state[empty_index]\n",
    "\n",
    "            if tuple(new_state) not in visited:\n",
    "                queue.append((new_state, path + [new_state[new_index]])) \n",
    "\n",
    "    return []  \n",
    "initial_state = [1, 2, 3, 4, 0, 5, 6,7, 8]  \n",
    "goal_state = [1, 2, 3, 4, 5, 6, 7, 8, 0]  \n",
    "\n",
    "solution_path = bfs_8_puzzle(initial_state, goal_state)\n",
    "print(\"Solution Path:\", solution_path)\n"
   ]
  }
 ],
 "metadata": {
  "kernelspec": {
   "display_name": "Python 3",
   "language": "python",
   "name": "python3"
  },
  "language_info": {
   "codemirror_mode": {
    "name": "ipython",
    "version": 3
   },
   "file_extension": ".py",
   "mimetype": "text/x-python",
   "name": "python",
   "nbconvert_exporter": "python",
   "pygments_lexer": "ipython3",
   "version": "3.12.4"
  }
 },
 "nbformat": 4,
 "nbformat_minor": 2
}
