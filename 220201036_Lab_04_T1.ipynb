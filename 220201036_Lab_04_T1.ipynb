{
 "cells": [
  {
   "cell_type": "code",
   "execution_count": null,
   "metadata": {},
   "outputs": [
    {
     "name": "stdout",
     "output_type": "stream",
     "text": [
      "No path found\n"
     ]
    }
   ],
   "source": [
    "import heapq\n",
    "import numpy as np\n",
    "import matplotlib.pyplot as plt\n",
    "\n",
    "GRID_SIZE = 10\n",
    "DIRECTIONS = [(0, 1), (0, -1), (1, 0), (-1, 0)]\n",
    "\n",
    "def generate_grid(size, obstacle_prob=0.2):\n",
    "    grid = np.zeros((size, size), dtype=int)\n",
    "    for i in range(size):\n",
    "        for j in range(size):\n",
    "            if np.random.rand() < obstacle_prob:\n",
    "                grid[i, j] = 1\n",
    "    grid[0, 0] = 0\n",
    "    grid[size - 1, size - 1] = 0\n",
    "    return grid\n",
    "\n",
    "def a_star(grid, start, end):\n",
    "    size = len(grid)\n",
    "    open_set = []\n",
    "    heapq.heappush(open_set, (0, start))\n",
    "    came_from = {}\n",
    "    g_score = {start: 0}\n",
    "    f_score = {start: heuristic(start, end)}\n",
    "\n",
    "    while open_set:\n",
    "        _, current = heapq.heappop(open_set)\n",
    "        \n",
    "        if current == end:\n",
    "            return reconstruct_path(came_from, current)\n",
    "\n",
    "        for dx, dy in DIRECTIONS:\n",
    "            neighbor = (current[0] + dx, current[1] + dy)\n",
    "\n",
    "            if 0 <= neighbor[0] < size and 0 <= neighbor[1] < size and grid[neighbor] == 0:\n",
    "                tentative_g_score = g_score[current] + 1\n",
    "\n",
    "                if neighbor not in g_score or tentative_g_score < g_score[neighbor]:\n",
    "                    came_from[neighbor] = current\n",
    "                    g_score[neighbor] = tentative_g_score\n",
    "                    f_score[neighbor] = tentative_g_score + heuristic(neighbor, end)\n",
    "                    heapq.heappush(open_set, (f_score[neighbor], neighbor))\n",
    "\n",
    "    return None\n",
    "\n",
    "def heuristic(a, b):\n",
    "    return abs(a[0] - b[0]) + abs(a[1] - b[1])\n",
    "\n",
    "def reconstruct_path(came_from, current):\n",
    "    path = [current]\n",
    "    while current in came_from:\n",
    "        current = came_from[current]\n",
    "        path.append(current)\n",
    "    return path[::-1]\n",
    "\n",
    "def visualize(grid, path):\n",
    "    grid_display = np.copy(grid)\n",
    "    for (x, y) in path:\n",
    "        grid_display[x, y] = 2\n",
    "    plt.imshow(grid_display, cmap=\"coolwarm\", origin=\"upper\")\n",
    "    plt.xticks(range(GRID_SIZE))\n",
    "    plt.yticks(range(GRID_SIZE))\n",
    "    plt.show()\n",
    "\n",
    "grid = generate_grid(GRID_SIZE, obstacle_prob=0.2)\n",
    "start, end = (0, 0), (GRID_SIZE - 1, GRID_SIZE - 1)\n",
    "path = a_star(grid, start, end)\n",
    "\n",
    "if path:\n",
    "    print(\"Path found:\", path)\n",
    "    visualize(grid, path)\n",
    "else:\n",
    "    print(\"No path found\")\n"
   ]
  }
 ],
 "metadata": {
  "kernelspec": {
   "display_name": "Python 3",
   "language": "python",
   "name": "python3"
  },
  "language_info": {
   "codemirror_mode": {
    "name": "ipython",
    "version": 3
   },
   "file_extension": ".py",
   "mimetype": "text/x-python",
   "name": "python",
   "nbconvert_exporter": "python",
   "pygments_lexer": "ipython3",
   "version": "3.12.4"
  }
 },
 "nbformat": 4,
 "nbformat_minor": 2
}
