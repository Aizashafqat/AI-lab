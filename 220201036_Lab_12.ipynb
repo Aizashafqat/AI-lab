{
  "nbformat": 4,
  "nbformat_minor": 0,
  "metadata": {
    "colab": {
      "provenance": []
    },
    "kernelspec": {
      "name": "python3",
      "display_name": "Python 3"
    },
    "language_info": {
      "name": "python"
    }
  },
  "cells": [
    {
      "cell_type": "markdown",
      "source": [
        "Task1"
      ],
      "metadata": {
        "id": "FxqC1I9V5ltn"
      }
    },
    {
      "cell_type": "code",
      "execution_count": 4,
      "metadata": {
        "colab": {
          "base_uri": "https://localhost:8080/"
        },
        "id": "zF8G9afq17ML",
        "outputId": "e35abe71-cc57-4fc5-ebe9-6fb49da0630e"
      },
      "outputs": [
        {
          "output_type": "stream",
          "name": "stdout",
          "text": [
            "Generation 1: Best Fitness = 9.9938\n",
            "Generation 2: Best Fitness = 9.9887\n",
            "Generation 3: Best Fitness = 9.9277\n",
            "Generation 4: Best Fitness = 9.8863\n",
            "Generation 5: Best Fitness = 9.2986\n",
            "Generation 6: Best Fitness = 8.7528\n",
            "Generation 7: Best Fitness = 7.7959\n",
            "Generation 8: Best Fitness = 7.6811\n",
            "Generation 9: Best Fitness = 7.4255\n",
            "Generation 10: Best Fitness = 7.0705\n",
            "Generation 11: Best Fitness = 7.1479\n",
            "Generation 12: Best Fitness = 6.4091\n",
            "Generation 13: Best Fitness = 7.3021\n",
            "Generation 14: Best Fitness = 8.0596\n",
            "Generation 15: Best Fitness = 8.5480\n",
            "Generation 16: Best Fitness = 8.4708\n",
            "Generation 17: Best Fitness = 7.5384\n",
            "Generation 18: Best Fitness = 7.3958\n",
            "Generation 19: Best Fitness = 6.9527\n",
            "Generation 20: Best Fitness = 7.5350\n",
            "\n",
            "Best Solution: x = 3.5794, Fitness = 7.9818\n",
            "Response: The GA found a value close to x = 5, which gives the highest function value.\n"
          ]
        }
      ],
      "source": [
        "\n",
        "\n",
        "import random\n",
        "\n",
        "# Define fitness function\n",
        "def fitness(x):\n",
        "    return 10 - (x - 5) ** 2\n",
        "\n",
        "# Generate initial population of 10 individuals (x ∈ [0, 10])\n",
        "population = [random.uniform(0, 10) for _ in range(10)]\n",
        "\n",
        "# GA parameters\n",
        "generations = 20\n",
        "mutation_sigma = 0.2\n",
        "\n",
        "# Run GA\n",
        "for gen in range(generations):\n",
        "    # Evaluate fitness\n",
        "    fitness_values = [fitness(individual) for individual in population]\n",
        "\n",
        "    # Get best solution in this generation\n",
        "    best_index = fitness_values.index(max(fitness_values))\n",
        "    best_individual = population[best_index]\n",
        "    best_fitness = fitness_values[best_index]\n",
        "\n",
        "    print(f\"Generation {gen+1}: Best Fitness = {best_fitness:.4f}\")\n",
        "\n",
        "    # Create next generation\n",
        "    new_population = []\n",
        "    while len(new_population) < 10:\n",
        "        # Random selection of parents\n",
        "        parent1 = random.choice(population)\n",
        "        parent2 = random.choice(population)\n",
        "\n",
        "        # Crossover (average)\n",
        "        child = (parent1 + parent2) / 2.0\n",
        "\n",
        "        # Mutation\n",
        "        child += random.gauss(0, mutation_sigma)\n",
        "\n",
        "        # Clip child to valid range [0, 10]\n",
        "        child = max(0, min(10, child))\n",
        "\n",
        "        new_population.append(child)\n",
        "\n",
        "    population = new_population\n",
        "\n",
        "# Final result\n",
        "final_fitness_values = [fitness(ind) for ind in population]\n",
        "best_index = final_fitness_values.index(max(final_fitness_values))\n",
        "best_x = population[best_index]\n",
        "best_f = final_fitness_values[best_index]\n",
        "\n",
        "print(f\"\\nBest Solution: x = {best_x:.4f}, Fitness = {best_f:.4f}\")\n",
        "print(\"Response: The GA found a value close to x = 5, which gives the highest function value.\")\n"
      ]
    },
    {
      "cell_type": "markdown",
      "source": [
        "Task2"
      ],
      "metadata": {
        "id": "IQ37fLOJ5tHP"
      }
    },
    {
      "cell_type": "code",
      "source": [
        "# task2.py - GA for picnic item selection under weight limit\n",
        "\n",
        "import random\n",
        "import numpy as np\n",
        "\n",
        "# Items: [Sandwich, Fruit, Drink]\n",
        "values = [10, 15, 20]\n",
        "weights = [2, 2, 3]\n",
        "max_weight = 5\n",
        "\n",
        "# Binary chromosome: 3 bits (0 or 1 for each item)\n",
        "population_size = 8\n",
        "generations = 15\n",
        "mutation_rate = 0.05\n",
        "\n",
        "# Generate initial population\n",
        "def create_individual():\n",
        "    return [random.randint(0, 1) for _ in range(3)]\n",
        "\n",
        "def fitness(individual):\n",
        "    total_value = sum([v for v, bit in zip(values, individual) if bit == 1])\n",
        "    total_weight = sum([w for w, bit in zip(weights, individual) if bit == 1])\n",
        "    return total_value if total_weight <= max_weight else 0\n",
        "\n",
        "def crossover(parent1, parent2):\n",
        "    # Single-point crossover at middle\n",
        "    point = 1\n",
        "    return parent1[:point] + parent2[point:]\n",
        "\n",
        "def mutate(individual):\n",
        "    # Flip each bit with small probability\n",
        "    return [bit if random.random() > mutation_rate else 1 - bit for bit in individual]\n",
        "\n",
        "# Initial population\n",
        "population = [create_individual() for _ in range(population_size)]\n",
        "\n",
        "# GA Loop\n",
        "for gen in range(generations):\n",
        "    fitnesses = [fitness(ind) for ind in population]\n",
        "    best_idx = np.argmax(fitnesses)\n",
        "    best_fit = fitnesses[best_idx]\n",
        "    print(f\"Generation {gen+1}: Best Fitness = {best_fit}\")\n",
        "\n",
        "    # Create new population\n",
        "    new_population = []\n",
        "    while len(new_population) < population_size:\n",
        "        # Random selection\n",
        "        parent1 = random.choice(population)\n",
        "        parent2 = random.choice(population)\n",
        "\n",
        "        # Crossover + Mutation\n",
        "        child = crossover(parent1, parent2)\n",
        "        child = mutate(child)\n",
        "        new_population.append(child)\n",
        "\n",
        "    population = new_population\n",
        "\n",
        "# Final result\n",
        "fitnesses = [fitness(ind) for ind in population]\n",
        "best_idx = np.argmax(fitnesses)\n",
        "best_individual = population[best_idx]\n",
        "best_value = sum([v for v, b in zip(values, best_individual) if b == 1])\n",
        "best_weight = sum([w for w, b in zip(weights, best_individual) if b == 1])\n",
        "\n",
        "print(\"\\nBest Solution: Items =\", best_individual,\n",
        "      f\", Total Value = {best_value}, Total Weight = {best_weight}\")\n",
        "\n",
        "print(\"Reaction: The GA selected a set of items providing high enjoyment while staying within the 5-unit weight limit.\")\n"
      ],
      "metadata": {
        "colab": {
          "base_uri": "https://localhost:8080/"
        },
        "id": "ySZAFwk_3ooT",
        "outputId": "08c05277-78c8-4dc5-810c-65687a9b89a6"
      },
      "execution_count": 2,
      "outputs": [
        {
          "output_type": "stream",
          "name": "stdout",
          "text": [
            "Generation 1: Best Fitness = 25\n",
            "Generation 2: Best Fitness = 35\n",
            "Generation 3: Best Fitness = 35\n",
            "Generation 4: Best Fitness = 35\n",
            "Generation 5: Best Fitness = 35\n",
            "Generation 6: Best Fitness = 35\n",
            "Generation 7: Best Fitness = 35\n",
            "Generation 8: Best Fitness = 35\n",
            "Generation 9: Best Fitness = 35\n",
            "Generation 10: Best Fitness = 35\n",
            "Generation 11: Best Fitness = 35\n",
            "Generation 12: Best Fitness = 35\n",
            "Generation 13: Best Fitness = 35\n",
            "Generation 14: Best Fitness = 35\n",
            "Generation 15: Best Fitness = 35\n",
            "\n",
            "Best Solution: Items = [0, 1, 1] , Total Value = 35, Total Weight = 5\n",
            "Reaction: The GA selected a set of items providing high enjoyment while staying within the 5-unit weight limit.\n"
          ]
        }
      ]
    },
    {
      "cell_type": "markdown",
      "source": [
        "Task3"
      ],
      "metadata": {
        "id": "S2p_kPNW5fV_"
      }
    },
    {
      "cell_type": "code",
      "source": [
        "\n",
        "\n",
        "import random\n",
        "\n",
        "target = 42\n",
        "population_size = 6\n",
        "generations = 10\n",
        "mutation_rate = 0.1\n",
        "\n",
        "# Individual is a single integer in range [0, 100]\n",
        "def create_individual():\n",
        "    return random.randint(0, 100)\n",
        "\n",
        "def fitness(x):\n",
        "    return -abs(x - target)\n",
        "\n",
        "def crossover(parent1, parent2):\n",
        "    # Average and round\n",
        "    return round((parent1 + parent2) / 2)\n",
        "\n",
        "def mutate(individual):\n",
        "    # Add ±1 with 10% chance\n",
        "    if random.random() < mutation_rate:\n",
        "        return max(0, min(100, individual + random.choice([-1, 1])))\n",
        "    return individual\n",
        "\n",
        "# Initial population\n",
        "population = [create_individual() for _ in range(population_size)]\n",
        "\n",
        "# GA loop\n",
        "for gen in range(generations):\n",
        "    fitnesses = [fitness(ind) for ind in population]\n",
        "    best_idx = fitnesses.index(max(fitnesses))\n",
        "    best_fit = fitnesses[best_idx]\n",
        "    print(f\"Generation {gen+1}: Best Fitness = {best_fit:.2f}\")\n",
        "\n",
        "    new_population = []\n",
        "    while len(new_population) < population_size:\n",
        "        # Random selection\n",
        "        parent1 = random.choice(population)\n",
        "        parent2 = random.choice(population)\n",
        "        child = crossover(parent1, parent2)\n",
        "        child = mutate(child)\n",
        "        new_population.append(child)\n",
        "\n",
        "    population = new_population\n",
        "\n",
        "# Final result\n",
        "fitnesses = [fitness(ind) for ind in population]\n",
        "best_idx = fitnesses.index(max(fitnesses))\n",
        "best_individual = population[best_idx]\n",
        "best_fitness = fitnesses[best_idx]\n",
        "\n",
        "print(\"\\nBest Solution: Number =\", best_individual, f\", Fitness = {best_fitness:.2f}\")\n",
        "if best_individual == target:\n",
        "    print(\"Response: The GA exactly found the target number 42.\")\n",
        "else:\n",
        "    print(\"Response: The GA found a number very close to the target 42.\")\n"
      ],
      "metadata": {
        "colab": {
          "base_uri": "https://localhost:8080/"
        },
        "id": "4cez9fd8478r",
        "outputId": "eedd34c5-0708-4c6f-8a79-838359503f91"
      },
      "execution_count": 3,
      "outputs": [
        {
          "output_type": "stream",
          "name": "stdout",
          "text": [
            "Generation 1: Best Fitness = -1.00\n",
            "Generation 2: Best Fitness = -14.00\n",
            "Generation 3: Best Fitness = -2.00\n",
            "Generation 4: Best Fitness = -6.00\n",
            "Generation 5: Best Fitness = -7.00\n",
            "Generation 6: Best Fitness = -8.00\n",
            "Generation 7: Best Fitness = -9.00\n",
            "Generation 8: Best Fitness = -11.00\n",
            "Generation 9: Best Fitness = -12.00\n",
            "Generation 10: Best Fitness = -15.00\n",
            "\n",
            "Best Solution: Number = 58 , Fitness = -16.00\n",
            "Response: The GA found a number very close to the target 42.\n"
          ]
        }
      ]
    },
    {
      "cell_type": "markdown",
      "source": [
        "Task 4"
      ],
      "metadata": {
        "id": "cjZNcCx05bB6"
      }
    },
    {
      "cell_type": "code",
      "source": [
        "# task4.py - GA to match target happiness score with color preferences\n",
        "\n",
        "import random\n",
        "import numpy as np\n",
        "\n",
        "# Preferences for Red, Green, Blue\n",
        "scores = [5, 8, 12]\n",
        "target_score = 20\n",
        "population_size = 8\n",
        "generations = 15\n",
        "mutation_rate = 0.05\n",
        "\n",
        "def create_individual():\n",
        "    # Binary selection: 1 = include, 0 = exclude\n",
        "    return np.random.randint(2, size=3)\n",
        "\n",
        "def fitness(individual):\n",
        "    total_score = sum([gene * score for gene, score in zip(individual, scores)])\n",
        "    return -abs(total_score - target_score)\n",
        "\n",
        "def crossover(parent1, parent2):\n",
        "    point = random.randint(1, 2)\n",
        "    child = np.concatenate((parent1[:point], parent2[point:]))\n",
        "    return child\n",
        "\n",
        "def mutate(individual):\n",
        "    for i in range(len(individual)):\n",
        "        if random.random() < mutation_rate:\n",
        "            individual[i] = 1 - individual[i]  # Flip bit\n",
        "    return individual\n",
        "\n",
        "# Initial population\n",
        "population = [create_individual() for _ in range(population_size)]\n",
        "\n",
        "# GA loop\n",
        "for gen in range(generations):\n",
        "    fitnesses = [fitness(ind) for ind in population]\n",
        "    best_idx = np.argmax(fitnesses)\n",
        "    best_fit = fitnesses[best_idx]\n",
        "    print(f\"Generation {gen+1}: Best Fitness = {best_fit:.2f}\")\n",
        "\n",
        "    new_population = []\n",
        "    while len(new_population) < population_size:\n",
        "        parent1 = random.choice(population)\n",
        "        parent2 = random.choice(population)\n",
        "        child = crossover(parent1, parent2)\n",
        "        child = mutate(child)\n",
        "        new_population.append(child)\n",
        "\n",
        "    population = new_population\n",
        "\n",
        "# Final result\n",
        "fitnesses = [fitness(ind) for ind in population]\n",
        "best_idx = np.argmax(fitnesses)\n",
        "best_individual = population[best_idx]\n",
        "total_score = sum([g * s for g, s in zip(best_individual, scores)])\n",
        "best_fitness = fitnesses[best_idx]\n",
        "\n",
        "print(\"\\nBest Solution: Colors =\", best_individual, f\", Total Score = {total_score}, Fitness = {best_fitness:.2f}\")\n",
        "if total_score == target_score:\n",
        "    print(\"Reaction: The GA picked the perfect combination to match the happiness score of 20.\")\n",
        "else:\n",
        "    print(\"Reaction: The GA picked a near-optimal combination of colors for a high happiness score.\")\n"
      ],
      "metadata": {
        "colab": {
          "base_uri": "https://localhost:8080/"
        },
        "id": "wbt_eyNE5acb",
        "outputId": "36174c20-8a18-4dee-bc5d-4f03e2c26f9b"
      },
      "execution_count": 5,
      "outputs": [
        {
          "output_type": "stream",
          "name": "stdout",
          "text": [
            "Generation 1: Best Fitness = 0.00\n",
            "Generation 2: Best Fitness = 0.00\n",
            "Generation 3: Best Fitness = 0.00\n",
            "Generation 4: Best Fitness = 0.00\n",
            "Generation 5: Best Fitness = 0.00\n",
            "Generation 6: Best Fitness = 0.00\n",
            "Generation 7: Best Fitness = -3.00\n",
            "Generation 8: Best Fitness = 0.00\n",
            "Generation 9: Best Fitness = 0.00\n",
            "Generation 10: Best Fitness = 0.00\n",
            "Generation 11: Best Fitness = 0.00\n",
            "Generation 12: Best Fitness = -7.00\n",
            "Generation 13: Best Fitness = -15.00\n",
            "Generation 14: Best Fitness = -20.00\n",
            "Generation 15: Best Fitness = -12.00\n",
            "\n",
            "Best Solution: Colors = [0 1 0] , Total Score = 8, Fitness = -12.00\n",
            "Reaction: The GA picked a near-optimal combination of colors for a high happiness score.\n"
          ]
        }
      ]
    },
    {
      "cell_type": "markdown",
      "source": [
        "Task5\n"
      ],
      "metadata": {
        "id": "tiSCllDv6e6U"
      }
    },
    {
      "cell_type": "code",
      "source": [
        "# task5.py - GA to plan 3 activities maximizing fun within 6-hour limit\n",
        "\n",
        "import random\n",
        "import numpy as np\n",
        "\n",
        "# Activities: [Park, Museum, Cafe]\n",
        "values = [10, 15, 20]     # Fun values\n",
        "times = [2, 3, 2]         # Hours required\n",
        "time_limit = 6\n",
        "population_size = 8\n",
        "generations = 15\n",
        "mutation_rate = 0.05\n",
        "\n",
        "def create_individual():\n",
        "    # Each gene: 0 (not selected) or 1 (selected)\n",
        "    return np.random.randint(2, size=3)\n",
        "\n",
        "def fitness(individual):\n",
        "    total_time = sum([g * t for g, t in zip(individual, times)])\n",
        "    total_value = sum([g * v for g, v in zip(individual, values)])\n",
        "    return total_value if total_time <= time_limit else 0\n",
        "\n",
        "def crossover(parent1, parent2):\n",
        "    point = random.randint(1, 2)\n",
        "    child = np.concatenate((parent1[:point], parent2[point:]))\n",
        "    return child\n",
        "\n",
        "def mutate(individual):\n",
        "    for i in range(len(individual)):\n",
        "        if random.random() < mutation_rate:\n",
        "            individual[i] = 1 - individual[i]\n",
        "    return individual\n",
        "\n",
        "# Initial population\n",
        "population = [create_individual() for _ in range(population_size)]\n",
        "\n",
        "# GA loop\n",
        "for gen in range(generations):\n",
        "    fitnesses = [fitness(ind) for ind in population]\n",
        "    best_idx = np.argmax(fitnesses)\n",
        "    best_fit = fitnesses[best_idx]\n",
        "    print(f\"Generation {gen+1}: Best Fitness = {best_fit}\")\n",
        "\n",
        "    new_population = []\n",
        "    while len(new_population) < population_size:\n",
        "        parent1 = random.choice(population)\n",
        "        parent2 = random.choice(population)\n",
        "        child = crossover(parent1, parent2)\n",
        "        child = mutate(child)\n",
        "        new_population.append(child)\n",
        "\n",
        "    population = new_population\n",
        "\n",
        "# Final result\n",
        "fitnesses = [fitness(ind) for ind in population]\n",
        "best_idx = np.argmax(fitnesses)\n",
        "best_individual = population[best_idx]\n",
        "total_value = sum([g * v for g, v in zip(best_individual, values)])\n",
        "total_time = sum([g * t for g, t in zip(best_individual, times)])\n",
        "\n",
        "print(\"\\nBest Solution: Activities =\", best_individual, f\", Total Value = {total_value}, Total Time = {total_time}\")\n",
        "if total_time <= time_limit:\n",
        "    print(\"Reaction: The GA chose all activities to maximize fun within the 6-hour limit.\")\n",
        "else:\n",
        "    print(\"Reaction: The GA found a high-value combination, but it exceeds the time limit.\")\n"
      ],
      "metadata": {
        "colab": {
          "base_uri": "https://localhost:8080/"
        },
        "id": "tiJdnBEH6hFt",
        "outputId": "7dcf1653-c365-45b3-876e-987293963639"
      },
      "execution_count": 6,
      "outputs": [
        {
          "output_type": "stream",
          "name": "stdout",
          "text": [
            "Generation 1: Best Fitness = 30\n",
            "Generation 2: Best Fitness = 25\n",
            "Generation 3: Best Fitness = 30\n",
            "Generation 4: Best Fitness = 35\n",
            "Generation 5: Best Fitness = 30\n",
            "Generation 6: Best Fitness = 30\n",
            "Generation 7: Best Fitness = 30\n",
            "Generation 8: Best Fitness = 30\n",
            "Generation 9: Best Fitness = 30\n",
            "Generation 10: Best Fitness = 20\n",
            "Generation 11: Best Fitness = 20\n",
            "Generation 12: Best Fitness = 20\n",
            "Generation 13: Best Fitness = 35\n",
            "Generation 14: Best Fitness = 30\n",
            "Generation 15: Best Fitness = 30\n",
            "\n",
            "Best Solution: Activities = [1 0 1] , Total Value = 30, Total Time = 4\n",
            "Reaction: The GA chose all activities to maximize fun within the 6-hour limit.\n"
          ]
        }
      ]
    }
  ]
}