{
 "cells": [
  {
   "cell_type": "code",
   "execution_count": 1,
   "metadata": {},
   "outputs": [
    {
     "name": "stdout",
     "output_type": "stream",
     "text": [
      "Path from (0, 0) to (2, 2): [(0, 0), (0, 1), (1, 1), (2, 1), (2, 2)]\n"
     ]
    }
   ],
   "source": [
    "import heapq\n",
    "\n",
    "def heuristic(a, b):\n",
    "    return abs(a[0] - b[0]) + abs(a[1] - b[1])\n",
    "\n",
    "def greedy_best_first_search(graph, start, goal):\n",
    "    priority_queue = [(heuristic(start, goal), start)]\n",
    "    visited = set()\n",
    "    came_from = {}\n",
    "    \n",
    "    while priority_queue:\n",
    "        _, current = heapq.heappop(priority_queue)\n",
    "        \n",
    "        if current == goal:\n",
    "            path = []\n",
    "            while current in came_from:\n",
    "                path.append(current)\n",
    "                current = came_from[current]\n",
    "            path.append(start)\n",
    "            path.reverse()\n",
    "            return path\n",
    "        \n",
    "        visited.add(current)\n",
    "        for neighbor in graph.get(current, []):\n",
    "            if neighbor not in visited:\n",
    "                heapq.heappush(priority_queue, (heuristic(neighbor, goal), neighbor))\n",
    "                came_from[neighbor] = current\n",
    "    \n",
    "    return None\n",
    "\n",
    "graph = {\n",
    "    (0, 0): [(0, 1), (1, 0)],\n",
    "    (0, 1): [(0, 0), (1, 1)],\n",
    "    (1, 0): [(0, 0), (1, 1)],\n",
    "    (1, 1): [(0, 1), (1, 0), (2, 1)],\n",
    "    (2, 1): [(1, 1), (2, 2)],\n",
    "    (2, 2): [(2, 1)]\n",
    "}\n",
    "\n",
    "start = (0, 0)\n",
    "goal = (2, 2)\n",
    "\n",
    "path = greedy_best_first_search(graph, start, goal)\n",
    "print(\"Path from {} to {}:\".format(start, goal), path)\n"
   ]
  }
 ],
 "metadata": {
  "kernelspec": {
   "display_name": "Python 3",
   "language": "python",
   "name": "python3"
  },
  "language_info": {
   "codemirror_mode": {
    "name": "ipython",
    "version": 3
   },
   "file_extension": ".py",
   "mimetype": "text/x-python",
   "name": "python",
   "nbconvert_exporter": "python",
   "pygments_lexer": "ipython3",
   "version": "3.12.4"
  }
 },
 "nbformat": 4,
 "nbformat_minor": 2
}
