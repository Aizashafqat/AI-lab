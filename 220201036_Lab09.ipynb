{
 "cells": [
  {
   "cell_type": "markdown",
   "id": "18d4f1b4",
   "metadata": {},
   "source": [
    "### Task 1:\n"
   ]
  },
  {
   "cell_type": "code",
   "execution_count": 1,
   "id": "8cb23813",
   "metadata": {},
   "outputs": [
    {
     "name": "stdout",
     "output_type": "stream",
     "text": [
      "=== Perceptron Components ===\n",
      "Weights: [0.1664029  0.12448424]\n",
      "Role: Weights determine the influence of each input feature on the decision boundary.\n",
      "Bias: 0.0\n",
      "Role: The bias allows the model to shift the decision boundary away from the origin.\n",
      "Activation Function: Unit step function (sign function in Perceptron)\n",
      "Role: The activation function decides the output class (0 or 1) based on the weighted sum and bias.\n"
     ]
    }
   ],
   "source": [
    "from sklearn.datasets import load_iris\n",
    "from sklearn.linear_model import Perceptron\n",
    "from sklearn.preprocessing import StandardScaler\n",
    "import numpy as np\n",
    "\n",
    "iris = load_iris()\n",
    "X = iris.data\n",
    "y = iris.target\n",
    "target_names = iris.target_names\n",
    "\n",
    "X = X[y != 2, 2:4]\n",
    "y = y[y != 2]\n",
    "\n",
    "scaler = StandardScaler()\n",
    "X_std = scaler.fit_transform(X)\n",
    "\n",
    "clf = Perceptron(eta0=0.1, random_state=42)\n",
    "clf.fit(X_std, y)\n",
    "\n",
    "weights = clf.coef_[0]\n",
    "bias = clf.intercept_[0]\n",
    "\n",
    "print(\"=== Perceptron Components ===\")\n",
    "print(f\"Weights: {weights}\")\n",
    "print(\"Role: Weights determine the influence of each input feature on the decision boundary.\")\n",
    "\n",
    "print(f\"Bias: {bias}\")\n",
    "print(\"Role: The bias allows the model to shift the decision boundary away from the origin.\")\n",
    "\n",
    "print(\"Activation Function: Unit step function (sign function in Perceptron)\")\n",
    "print(\"Role: The activation function decides the output class (0 or 1) based on the weighted sum and bias.\")\n"
   ]
  },
  {
   "cell_type": "markdown",
   "id": "4f74a41b",
   "metadata": {},
   "source": [
    "## Task 2"
   ]
  },
  {
   "cell_type": "code",
   "execution_count": 2,
   "id": "7b99b4a1",
   "metadata": {},
   "outputs": [
    {
     "name": "stdout",
     "output_type": "stream",
     "text": [
      "=== Feature Selection and Impact on Perceptron ===\n",
      "Selected Features: petal_length and petal_width\n",
      "Description: These features have the highest variance and separability between Setosa and Versicolor.\n",
      "Classification Accuracy: 1.00\n",
      "Interpretation: The high accuracy indicates strong discriminatory power of these two features.\n"
     ]
    }
   ],
   "source": [
    "from sklearn.datasets import load_iris\n",
    "from sklearn.linear_model import Perceptron\n",
    "from sklearn.preprocessing import StandardScaler\n",
    "from sklearn.model_selection import train_test_split\n",
    "from sklearn.metrics import accuracy_score\n",
    "\n",
    "iris = load_iris()\n",
    "X = iris.data\n",
    "y = iris.target\n",
    "\n",
    "X = X[y != 2, 2:4]\n",
    "y = y[y != 2]\n",
    "\n",
    "X_train, X_test, y_train, y_test = train_test_split(X, y, random_state=42, stratify=y)\n",
    "\n",
    "scaler = StandardScaler()\n",
    "X_train_std = scaler.fit_transform(X_train)\n",
    "X_test_std = scaler.transform(X_test)\n",
    "\n",
    "clf = Perceptron(eta0=0.1, random_state=42)\n",
    "clf.fit(X_train_std, y_train)\n",
    "\n",
    "y_pred = clf.predict(X_test_std)\n",
    "accuracy = accuracy_score(y_test, y_pred)\n",
    "\n",
    "print(\"=== Feature Selection and Impact on Perceptron ===\")\n",
    "print(\"Selected Features: petal_length and petal_width\")\n",
    "print(\"Description: These features have the highest variance and separability between Setosa and Versicolor.\")\n",
    "print(f\"Classification Accuracy: {accuracy:.2f}\")\n",
    "print(\"Interpretation: The high accuracy indicates strong discriminatory power of these two features.\")\n"
   ]
  },
  {
   "cell_type": "markdown",
   "id": "746c1a8f",
   "metadata": {},
   "source": [
    "## Task 3\n"
   ]
  },
  {
   "cell_type": "code",
   "execution_count": 3,
   "id": "890ebde9",
   "metadata": {},
   "outputs": [
    {
     "name": "stdout",
     "output_type": "stream",
     "text": [
      "=== Manual Perceptron Training ===\n",
      "\n",
      "Epoch 1\n",
      "Sample 1: x=[1 1], y_true=0, y_pred=1, error=-1\n",
      "Updated weights: [-0.1 -0.1], bias: -0.1\n",
      "Sample 2: x=[2 2], y_true=0, y_pred=0, error=0\n",
      "Updated weights: [-0.1 -0.1], bias: -0.1\n",
      "Sample 3: x=[3 3], y_true=1, y_pred=0, error=1\n",
      "Updated weights: [0.2 0.2], bias: 0.0\n",
      "Sample 4: x=[4 4], y_true=1, y_pred=1, error=0\n",
      "Updated weights: [0.2 0.2], bias: 0.0\n",
      "\n",
      "Epoch 2\n",
      "Sample 1: x=[1 1], y_true=0, y_pred=1, error=-1\n",
      "Updated weights: [0.1 0.1], bias: -0.1\n",
      "Sample 2: x=[2 2], y_true=0, y_pred=1, error=-1\n",
      "Updated weights: [-0.1 -0.1], bias: -0.2\n",
      "Sample 3: x=[3 3], y_true=1, y_pred=0, error=1\n",
      "Updated weights: [0.2 0.2], bias: -0.1\n",
      "Sample 4: x=[4 4], y_true=1, y_pred=1, error=0\n",
      "Updated weights: [0.2 0.2], bias: -0.1\n"
     ]
    }
   ],
   "source": [
    "import numpy as np\n",
    "\n",
    "data = np.array([\n",
    "    [1, 1, 0],\n",
    "    [2, 2, 0],\n",
    "    [3, 3, 1],\n",
    "    [4, 4, 1]\n",
    "])\n",
    "\n",
    "X = data[:, :2]\n",
    "y = data[:, 2]\n",
    "\n",
    "weights = np.zeros(2)\n",
    "bias = 0.0\n",
    "learning_rate = 0.1\n",
    "epochs = 2\n",
    "\n",
    "print(\"=== Manual Perceptron Training ===\")\n",
    "for epoch in range(epochs):\n",
    "    print(f\"\\nEpoch {epoch + 1}\")\n",
    "    for i in range(len(X)):\n",
    "        x_i = X[i]\n",
    "        y_true = y[i]\n",
    "        linear_output = np.dot(x_i, weights) + bias\n",
    "        y_pred = 1 if linear_output >= 0 else 0\n",
    "        error = y_true - y_pred\n",
    "        weights += learning_rate * error * x_i\n",
    "        bias += learning_rate * error\n",
    "        print(f\"Sample {i+1}: x={x_i}, y_true={int(y_true)}, y_pred={y_pred}, error={error}\")\n",
    "        print(f\"Updated weights: {weights}, bias: {bias}\")\n"
   ]
  },
  {
   "cell_type": "markdown",
   "id": "1eaa02a5",
   "metadata": {},
   "source": [
    "## Task 04"
   ]
  },
  {
   "cell_type": "code",
   "execution_count": 4,
   "id": "65c0b888",
   "metadata": {},
   "outputs": [
    {
     "name": "stdout",
     "output_type": "stream",
     "text": [
      "=== Impact of Learning Rates on Perceptron Accuracy ===\n",
      "Learning Rate: 0.01 -> Accuracy: 1.00\n",
      "→ Slow convergence; model may require more epochs to reach optimal performance.\n",
      "Learning Rate: 0.1 -> Accuracy: 1.00\n",
      "→ Balanced convergence; often effective with good performance.\n",
      "Learning Rate: 1.0 -> Accuracy: 1.00\n",
      "→ Fast convergence; may overshoot the optimal solution or oscillate.\n"
     ]
    }
   ],
   "source": [
    "from sklearn.datasets import load_iris\n",
    "from sklearn.linear_model import Perceptron\n",
    "from sklearn.preprocessing import StandardScaler\n",
    "from sklearn.model_selection import train_test_split\n",
    "from sklearn.metrics import accuracy_score\n",
    "\n",
    "iris = load_iris()\n",
    "X = iris.data\n",
    "y = iris.target\n",
    "\n",
    "X = X[y != 2, 2:4]\n",
    "y = y[y != 2]\n",
    "\n",
    "X_train, X_test, y_train, y_test = train_test_split(X, y, random_state=42, stratify=y)\n",
    "\n",
    "scaler = StandardScaler()\n",
    "X_train_std = scaler.fit_transform(X_train)\n",
    "X_test_std = scaler.transform(X_test)\n",
    "\n",
    "learning_rates = [0.01, 0.1, 1.0]\n",
    "\n",
    "print(\"=== Impact of Learning Rates on Perceptron Accuracy ===\")\n",
    "for lr in learning_rates:\n",
    "    clf = Perceptron(eta0=lr, random_state=42)\n",
    "    clf.fit(X_train_std, y_train)\n",
    "    y_pred = clf.predict(X_test_std)\n",
    "    acc = accuracy_score(y_test, y_pred)\n",
    "    print(f\"Learning Rate: {lr} -> Accuracy: {acc:.2f}\")\n",
    "    if lr == 0.01:\n",
    "        print(\"→ Slow convergence; model may require more epochs to reach optimal performance.\")\n",
    "    elif lr == 0.1:\n",
    "        print(\"→ Balanced convergence; often effective with good performance.\")\n",
    "    elif lr == 1.0:\n",
    "        print(\"→ Fast convergence; may overshoot the optimal solution or oscillate.\")\n"
   ]
  },
  {
   "cell_type": "markdown",
   "id": "49b4ec4f",
   "metadata": {},
   "source": [
    "## Task 05"
   ]
  },
  {
   "cell_type": "code",
   "execution_count": 5,
   "id": "0b826f7f",
   "metadata": {},
   "outputs": [
    {
     "data": {
      "image/png": "[encoded data removed]",
      "text/plain": [
       "<Figure size 800x600 with 1 Axes>"
      ]
     },
     "metadata": {},
     "output_type": "display_data"
    },
    {
     "name": "stdout",
     "output_type": "stream",
     "text": [
      "The decision boundary separates the two classes based on the Perceptron's learned weights. Points on either side are classified into different categories.\n"
     ]
    }
   ],
   "source": [
    "import numpy as np\n",
    "import matplotlib.pyplot as plt\n",
    "from sklearn.datasets import load_iris\n",
    "from sklearn.linear_model import Perceptron\n",
    "from sklearn.preprocessing import StandardScaler\n",
    "\n",
    "iris = load_iris()\n",
    "X = iris.data\n",
    "y = iris.target\n",
    "\n",
    "X = X[y != 2, 2:4]\n",
    "y = y[y != 2]\n",
    "\n",
    "scaler = StandardScaler()\n",
    "X_std = scaler.fit_transform(X)\n",
    "\n",
    "clf = Perceptron(eta0=0.1, random_state=42)\n",
    "clf.fit(X_std, y)\n",
    "\n",
    "x_min, x_max = X_std[:, 0].min() - 1, X_std[:, 0].max() + 1\n",
    "y_min, y_max = X_std[:, 1].min() - 1, X_std[:, 1].max() + 1\n",
    "xx, yy = np.meshgrid(np.linspace(x_min, x_max, 200),\n",
    "                     np.linspace(y_min, y_max, 200))\n",
    "Z = clf.predict(np.c_[xx.ravel(), yy.ravel()])\n",
    "Z = Z.reshape(xx.shape)\n",
    "\n",
    "plt.figure(figsize=(8, 6))\n",
    "plt.contourf(xx, yy, Z, alpha=0.3, cmap=plt.cm.Paired)\n",
    "plt.scatter(X_std[y == 0, 0], X_std[y == 0, 1], color='red', label='Setosa')\n",
    "plt.scatter(X_std[y == 1, 0], X_std[y == 1, 1], color='blue', label='Versicolor')\n",
    "plt.xlabel('Petal Length (standardized)')\n",
    "plt.ylabel('Petal Width (standardized)')\n",
    "plt.title('Perceptron Decision Boundary')\n",
    "plt.legend()\n",
    "plt.grid(True)\n",
    "plt.savefig('decision_boundary.png')\n",
    "plt.show()\n",
    "\n",
    "print(\"The decision boundary separates the two classes based on the Perceptron's learned weights. Points on either side are classified into different categories.\")\n"
   ]
  }
 ],
 "metadata": {
  "kernelspec": {
   "display_name": "Python 3",
   "language": "python",
   "name": "python3"
  },
  "language_info": {
   "codemirror_mode": {
    "name": "ipython",
    "version": 3
   },
   "file_extension": ".py",
   "mimetype": "text/x-python",
   "name": "python",
   "nbconvert_exporter": "python",
   "pygments_lexer": "ipython3",
   "version": "3.12.6"
  }
 },
 "nbformat": 4,
 "nbformat_minor": 5
}
