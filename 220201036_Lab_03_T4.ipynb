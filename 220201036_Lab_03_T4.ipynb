{
 "cells": [
  {
   "cell_type": "code",
   "execution_count": null,
   "metadata": {},
   "outputs": [
    {
     "name": "stdout",
     "output_type": "stream",
     "text": [
      "Decision: Change to Green for North-South\n"
     ]
    }
   ],
   "source": [
    "def traffic_light_controller(waiting_time_north_south, waiting_time_east_west):\n",
    "    \"\"\"Determines which traffic light should turn green to minimize waiting time.\"\"\"\n",
    "    if waiting_time_north_south > waiting_time_east_west:\n",
    "        return \"Change to Green for North-South\"\n",
    "    else:\n",
    "        return \"Change to Green for East-West\"\n",
    "\n",
    "\n",
    "waiting_time_north_south = 10\n",
    "waiting_time_east_west = 5\n",
    "\n",
    "decision = traffic_light_controller(waiting_time_north_south, waiting_time_east_west)\n",
    "\n",
    "print(\"Decision:\", decision)\n"
   ]
  }
 ],
 "metadata": {
  "kernelspec": {
   "display_name": "Python 3",
   "language": "python",
   "name": "python3"
  },
  "language_info": {
   "codemirror_mode": {
    "name": "ipython",
    "version": 3
   },
   "file_extension": ".py",
   "mimetype": "text/x-python",
   "name": "python",
   "nbconvert_exporter": "python",
   "pygments_lexer": "ipython3",
   "version": "3.12.4"
  }
 },
 "nbformat": 4,
 "nbformat_minor": 2
}
