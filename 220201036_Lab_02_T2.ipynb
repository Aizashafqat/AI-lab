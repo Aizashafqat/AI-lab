{
 "cells": [
  {
   "cell_type": "code",
   "execution_count": 1,
   "metadata": {},
   "outputs": [
    {
     "name": "stdout",
     "output_type": "stream",
     "text": [
      "A path from 'A' to 'F': ['A', 'B', 'E', 'F']\n"
     ]
    }
   ],
   "source": [
    "def dfs_path(graph, start, goal, path=None):\n",
    "    if path is None:\n",
    "        path = []\n",
    "    path.append(start)\n",
    "    \n",
    "    if start == goal:\n",
    "        return path  # Return the path when goal is reached\n",
    "    \n",
    "    for neighbor in graph.get(start, []):\n",
    "        if neighbor not in path:\n",
    "            new_path = dfs_path(graph, neighbor, goal, path.copy())\n",
    "            if new_path:\n",
    "                return new_path  # Return the first found path\n",
    "    \n",
    "    return None  # Return None if no path is found\n",
    "\n",
    "# Graph definition\n",
    "graph = {\n",
    "    'A': ['B', 'C'],\n",
    "    'B': ['D', 'E'],\n",
    "    'C': ['F'],\n",
    "    'D': [],\n",
    "    'E': ['F'],\n",
    "    'F': []\n",
    "}\n",
    "\n",
    "start = 'A'\n",
    "goal = 'F'\n",
    "\n",
    "# Finding path using DFS\n",
    "dfs_result = dfs_path(graph, start, goal)\n",
    "print(\"A path from '{}' to '{}':\".format(start, goal), dfs_result)\n"
   ]
  }
 ],
 "metadata": {
  "kernelspec": {
   "display_name": "Python 3",
   "language": "python",
   "name": "python3"
  },
  "language_info": {
   "codemirror_mode": {
    "name": "ipython",
    "version": 3
   },
   "file_extension": ".py",
   "mimetype": "text/x-python",
   "name": "python",
   "nbconvert_exporter": "python",
   "pygments_lexer": "ipython3",
   "version": "3.12.4"
  }
 },
 "nbformat": 4,
 "nbformat_minor": 2
}
